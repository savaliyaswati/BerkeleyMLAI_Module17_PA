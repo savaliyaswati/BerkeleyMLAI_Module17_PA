{
 "cells": [
  {
   "cell_type": "markdown",
   "metadata": {},
   "source": [
    "# Practical Application III: Comparing Classifiers\n",
    "\n",
    "**Overview**: In this practical application, your goal is to compare the performance of the classifiers we encountered in this section, namely K Nearest Neighbor, Logistic Regression, Decision Trees, and Support Vector Machines.  We will utilize a dataset related to marketing bank products over the telephone.  \n",
    "\n"
   ]
  },
  {
   "cell_type": "markdown",
   "metadata": {},
   "source": [
    "### Getting Started\n",
    "\n",
    "Our dataset comes from the UCI Machine Learning repository [link](https://archive.ics.uci.edu/ml/datasets/bank+marketing).  The data is from a Portugese banking institution and is a collection of the results of multiple marketing campaigns.  We will make use of the article accompanying the dataset [here](CRISP-DM-BANK.pdf) for more information on the data and features.\n",
    "\n"
   ]
  },
  {
   "cell_type": "markdown",
   "metadata": {},
   "source": [
    "### Problem 1: Understanding the Data\n",
    "\n",
    "To gain a better understanding of the data, please read the information provided in the UCI link above, and examine the **Materials and Methods** section of the paper.  How many marketing campaigns does this data represent?"
   ]
  },
  {
   "cell_type": "markdown",
   "metadata": {},
   "source": [
    "### Number of Marketing Campaingns the Data Represents...\n",
    "\n",
    "Its found from the The \"Portugese Banking Data\" it represents 17 marketing campaigns conducted between May 2008 and November 2010"
   ]
  },
  {
   "cell_type": "markdown",
   "metadata": {},
   "source": [
    "### Problem 2: Read in the Data\n",
    "\n",
    "Use pandas to read in the dataset `bank-additional-full.csv` and assign to a meaningful variable name."
   ]
  },
  {
   "cell_type": "code",
   "execution_count": 1,
   "metadata": {},
   "outputs": [],
   "source": [
    "#######################################################################################################################\n",
    "# Iports of Lbraries and other packages we will use. \n",
    "# For Plotting part of the project we will have the imports included later in this project.\n",
    "# That way we can have some clarity at various sections of this practical work project\n",
    "#######################################################################################################################\n",
    "import pandas as pd\n",
    "import time\n",
    "from sklearn.model_selection import train_test_split\n",
    "from sklearn.preprocessing import StandardScaler\n",
    "from sklearn.model_selection import train_test_split\n",
    "from sklearn.preprocessing import StandardScaler\n",
    "from sklearn.linear_model import LogisticRegression\n",
    "from sklearn.neighbors import KNeighborsClassifier\n",
    "from sklearn.tree import DecisionTreeClassifier\n",
    "from sklearn.svm import SVC\n",
    "from sklearn.metrics import accuracy_score, precision_score, recall_score, f1_score, confusion_matrix, classification_report"
   ]
  },
  {
   "cell_type": "code",
   "execution_count": 2,
   "metadata": {},
   "outputs": [],
   "source": [
    "#######################################################################################################################\n",
    "# Some basic operations of Reading the CSV and see how many rows and columns it entails for the work\n",
    "#######################################################################################################################\n",
    "df = pd.read_csv('../data/bank-additional-full.csv', sep = ';')"
   ]
  },
  {
   "cell_type": "code",
   "execution_count": 3,
   "metadata": {},
   "outputs": [
    {
     "data": {
      "text/html": [
       "<div>\n",
       "<style scoped>\n",
       "    .dataframe tbody tr th:only-of-type {\n",
       "        vertical-align: middle;\n",
       "    }\n",
       "\n",
       "    .dataframe tbody tr th {\n",
       "        vertical-align: top;\n",
       "    }\n",
       "\n",
       "    .dataframe thead th {\n",
       "        text-align: right;\n",
       "    }\n",
       "</style>\n",
       "<table border=\"1\" class=\"dataframe\">\n",
       "  <thead>\n",
       "    <tr style=\"text-align: right;\">\n",
       "      <th></th>\n",
       "      <th>age</th>\n",
       "      <th>job</th>\n",
       "      <th>marital</th>\n",
       "      <th>education</th>\n",
       "      <th>default</th>\n",
       "      <th>housing</th>\n",
       "      <th>loan</th>\n",
       "      <th>contact</th>\n",
       "      <th>month</th>\n",
       "      <th>day_of_week</th>\n",
       "      <th>...</th>\n",
       "      <th>campaign</th>\n",
       "      <th>pdays</th>\n",
       "      <th>previous</th>\n",
       "      <th>poutcome</th>\n",
       "      <th>emp.var.rate</th>\n",
       "      <th>cons.price.idx</th>\n",
       "      <th>cons.conf.idx</th>\n",
       "      <th>euribor3m</th>\n",
       "      <th>nr.employed</th>\n",
       "      <th>y</th>\n",
       "    </tr>\n",
       "  </thead>\n",
       "  <tbody>\n",
       "    <tr>\n",
       "      <th>0</th>\n",
       "      <td>56</td>\n",
       "      <td>housemaid</td>\n",
       "      <td>married</td>\n",
       "      <td>basic.4y</td>\n",
       "      <td>no</td>\n",
       "      <td>no</td>\n",
       "      <td>no</td>\n",
       "      <td>telephone</td>\n",
       "      <td>may</td>\n",
       "      <td>mon</td>\n",
       "      <td>...</td>\n",
       "      <td>1</td>\n",
       "      <td>999</td>\n",
       "      <td>0</td>\n",
       "      <td>nonexistent</td>\n",
       "      <td>1.1</td>\n",
       "      <td>93.994</td>\n",
       "      <td>-36.4</td>\n",
       "      <td>4.857</td>\n",
       "      <td>5191.0</td>\n",
       "      <td>no</td>\n",
       "    </tr>\n",
       "    <tr>\n",
       "      <th>1</th>\n",
       "      <td>57</td>\n",
       "      <td>services</td>\n",
       "      <td>married</td>\n",
       "      <td>high.school</td>\n",
       "      <td>unknown</td>\n",
       "      <td>no</td>\n",
       "      <td>no</td>\n",
       "      <td>telephone</td>\n",
       "      <td>may</td>\n",
       "      <td>mon</td>\n",
       "      <td>...</td>\n",
       "      <td>1</td>\n",
       "      <td>999</td>\n",
       "      <td>0</td>\n",
       "      <td>nonexistent</td>\n",
       "      <td>1.1</td>\n",
       "      <td>93.994</td>\n",
       "      <td>-36.4</td>\n",
       "      <td>4.857</td>\n",
       "      <td>5191.0</td>\n",
       "      <td>no</td>\n",
       "    </tr>\n",
       "    <tr>\n",
       "      <th>2</th>\n",
       "      <td>37</td>\n",
       "      <td>services</td>\n",
       "      <td>married</td>\n",
       "      <td>high.school</td>\n",
       "      <td>no</td>\n",
       "      <td>yes</td>\n",
       "      <td>no</td>\n",
       "      <td>telephone</td>\n",
       "      <td>may</td>\n",
       "      <td>mon</td>\n",
       "      <td>...</td>\n",
       "      <td>1</td>\n",
       "      <td>999</td>\n",
       "      <td>0</td>\n",
       "      <td>nonexistent</td>\n",
       "      <td>1.1</td>\n",
       "      <td>93.994</td>\n",
       "      <td>-36.4</td>\n",
       "      <td>4.857</td>\n",
       "      <td>5191.0</td>\n",
       "      <td>no</td>\n",
       "    </tr>\n",
       "    <tr>\n",
       "      <th>3</th>\n",
       "      <td>40</td>\n",
       "      <td>admin.</td>\n",
       "      <td>married</td>\n",
       "      <td>basic.6y</td>\n",
       "      <td>no</td>\n",
       "      <td>no</td>\n",
       "      <td>no</td>\n",
       "      <td>telephone</td>\n",
       "      <td>may</td>\n",
       "      <td>mon</td>\n",
       "      <td>...</td>\n",
       "      <td>1</td>\n",
       "      <td>999</td>\n",
       "      <td>0</td>\n",
       "      <td>nonexistent</td>\n",
       "      <td>1.1</td>\n",
       "      <td>93.994</td>\n",
       "      <td>-36.4</td>\n",
       "      <td>4.857</td>\n",
       "      <td>5191.0</td>\n",
       "      <td>no</td>\n",
       "    </tr>\n",
       "    <tr>\n",
       "      <th>4</th>\n",
       "      <td>56</td>\n",
       "      <td>services</td>\n",
       "      <td>married</td>\n",
       "      <td>high.school</td>\n",
       "      <td>no</td>\n",
       "      <td>no</td>\n",
       "      <td>yes</td>\n",
       "      <td>telephone</td>\n",
       "      <td>may</td>\n",
       "      <td>mon</td>\n",
       "      <td>...</td>\n",
       "      <td>1</td>\n",
       "      <td>999</td>\n",
       "      <td>0</td>\n",
       "      <td>nonexistent</td>\n",
       "      <td>1.1</td>\n",
       "      <td>93.994</td>\n",
       "      <td>-36.4</td>\n",
       "      <td>4.857</td>\n",
       "      <td>5191.0</td>\n",
       "      <td>no</td>\n",
       "    </tr>\n",
       "  </tbody>\n",
       "</table>\n",
       "<p>5 rows × 21 columns</p>\n",
       "</div>"
      ],
      "text/plain": [
       "   age        job  marital    education  default housing loan    contact  \\\n",
       "0   56  housemaid  married     basic.4y       no      no   no  telephone   \n",
       "1   57   services  married  high.school  unknown      no   no  telephone   \n",
       "2   37   services  married  high.school       no     yes   no  telephone   \n",
       "3   40     admin.  married     basic.6y       no      no   no  telephone   \n",
       "4   56   services  married  high.school       no      no  yes  telephone   \n",
       "\n",
       "  month day_of_week  ...  campaign  pdays  previous     poutcome emp.var.rate  \\\n",
       "0   may         mon  ...         1    999         0  nonexistent          1.1   \n",
       "1   may         mon  ...         1    999         0  nonexistent          1.1   \n",
       "2   may         mon  ...         1    999         0  nonexistent          1.1   \n",
       "3   may         mon  ...         1    999         0  nonexistent          1.1   \n",
       "4   may         mon  ...         1    999         0  nonexistent          1.1   \n",
       "\n",
       "   cons.price.idx  cons.conf.idx  euribor3m  nr.employed   y  \n",
       "0          93.994          -36.4      4.857       5191.0  no  \n",
       "1          93.994          -36.4      4.857       5191.0  no  \n",
       "2          93.994          -36.4      4.857       5191.0  no  \n",
       "3          93.994          -36.4      4.857       5191.0  no  \n",
       "4          93.994          -36.4      4.857       5191.0  no  \n",
       "\n",
       "[5 rows x 21 columns]"
      ]
     },
     "execution_count": 3,
     "metadata": {},
     "output_type": "execute_result"
    }
   ],
   "source": [
    "df.head()"
   ]
  },
  {
   "cell_type": "markdown",
   "metadata": {},
   "source": [
    "### Problem 3: Understanding the Features\n",
    "\n",
    "Examine the data description below, and determine if any of the features are missing values or need to be coerced to a different data type.\n",
    "\n",
    "```\n",
    "Input variables:\n",
    "# bank client data:\n",
    "1 - age (numeric)\n",
    "2 - job : type of job (categorical: 'admin.','blue-collar','entrepreneur','housemaid','management','retired','self-employed','services','student','technician','unemployed','unknown')\n",
    "3 - marital : marital status (categorical: 'divorced','married','single','unknown'; note: 'divorced' means divorced or widowed)\n",
    "4 - education (categorical: 'basic.4y','basic.6y','basic.9y','high.school','illiterate','professional.course','university.degree','unknown')\n",
    "5 - default: has credit in default? (categorical: 'no','yes','unknown')\n",
    "6 - housing: has housing loan? (categorical: 'no','yes','unknown')\n",
    "7 - loan: has personal loan? (categorical: 'no','yes','unknown')\n",
    "# related with the last contact of the current campaign:\n",
    "8 - contact: contact communication type (categorical: 'cellular','telephone')\n",
    "9 - month: last contact month of year (categorical: 'jan', 'feb', 'mar', ..., 'nov', 'dec')\n",
    "10 - day_of_week: last contact day of the week (categorical: 'mon','tue','wed','thu','fri')\n",
    "11 - duration: last contact duration, in seconds (numeric). Important note: this attribute highly affects the output target (e.g., if duration=0 then y='no'). Yet, the duration is not known before a call is performed. Also, after the end of the call y is obviously known. Thus, this input should only be included for benchmark purposes and should be discarded if the intention is to have a realistic predictive model.\n",
    "# other attributes:\n",
    "12 - campaign: number of contacts performed during this campaign and for this client (numeric, includes last contact)\n",
    "13 - pdays: number of days that passed by after the client was last contacted from a previous campaign (numeric; 999 means client was not previously contacted)\n",
    "14 - previous: number of contacts performed before this campaign and for this client (numeric)\n",
    "15 - poutcome: outcome of the previous marketing campaign (categorical: 'failure','nonexistent','success')\n",
    "# social and economic context attributes\n",
    "16 - emp.var.rate: employment variation rate - quarterly indicator (numeric)\n",
    "17 - cons.price.idx: consumer price index - monthly indicator (numeric)\n",
    "18 - cons.conf.idx: consumer confidence index - monthly indicator (numeric)\n",
    "19 - euribor3m: euribor 3 month rate - daily indicator (numeric)\n",
    "20 - nr.employed: number of employees - quarterly indicator (numeric)\n",
    "\n",
    "Output variable (desired target):\n",
    "21 - y - has the client subscribed a term deposit? (binary: 'yes','no')\n",
    "```\n"
   ]
  },
  {
   "cell_type": "markdown",
   "metadata": {},
   "source": [
    "### Problem 4: Understanding the Task\n",
    "\n",
    "After examining the description and data, your goal now is to clearly state the *Business Objective* of the task.  State the objective below."
   ]
  },
  {
   "cell_type": "markdown",
   "metadata": {},
   "source": [
    "### Business Objective of the Assignment is to...\n",
    "\n",
    "Is to predict whether a bank client will subscribe to a term deposit based on information obtained during direct marketing campaigns like \n",
    "phone calls, along with demographic and economic context data."
   ]
  },
  {
   "cell_type": "code",
   "execution_count": 4,
   "metadata": {},
   "outputs": [
    {
     "name": "stdout",
     "output_type": "stream",
     "text": [
      "<class 'pandas.core.frame.DataFrame'>\n",
      "RangeIndex: 41188 entries, 0 to 41187\n",
      "Data columns (total 21 columns):\n",
      " #   Column          Non-Null Count  Dtype  \n",
      "---  ------          --------------  -----  \n",
      " 0   age             41188 non-null  int64  \n",
      " 1   job             41188 non-null  object \n",
      " 2   marital         41188 non-null  object \n",
      " 3   education       41188 non-null  object \n",
      " 4   default         41188 non-null  object \n",
      " 5   housing         41188 non-null  object \n",
      " 6   loan            41188 non-null  object \n",
      " 7   contact         41188 non-null  object \n",
      " 8   month           41188 non-null  object \n",
      " 9   day_of_week     41188 non-null  object \n",
      " 10  duration        41188 non-null  int64  \n",
      " 11  campaign        41188 non-null  int64  \n",
      " 12  pdays           41188 non-null  int64  \n",
      " 13  previous        41188 non-null  int64  \n",
      " 14  poutcome        41188 non-null  object \n",
      " 15  emp.var.rate    41188 non-null  float64\n",
      " 16  cons.price.idx  41188 non-null  float64\n",
      " 17  cons.conf.idx   41188 non-null  float64\n",
      " 18  euribor3m       41188 non-null  float64\n",
      " 19  nr.employed     41188 non-null  float64\n",
      " 20  y               41188 non-null  object \n",
      "dtypes: float64(5), int64(5), object(11)\n",
      "memory usage: 6.6+ MB\n"
     ]
    }
   ],
   "source": [
    "#######################################################################################################################\n",
    "# The Data we will be dealing with\n",
    "########################################################################################################################\n",
    "df.info()"
   ]
  },
  {
   "cell_type": "code",
   "execution_count": 5,
   "metadata": {},
   "outputs": [
    {
     "data": {
      "text/html": [
       "<div>\n",
       "<style scoped>\n",
       "    .dataframe tbody tr th:only-of-type {\n",
       "        vertical-align: middle;\n",
       "    }\n",
       "\n",
       "    .dataframe tbody tr th {\n",
       "        vertical-align: top;\n",
       "    }\n",
       "\n",
       "    .dataframe thead th {\n",
       "        text-align: right;\n",
       "    }\n",
       "</style>\n",
       "<table border=\"1\" class=\"dataframe\">\n",
       "  <thead>\n",
       "    <tr style=\"text-align: right;\">\n",
       "      <th></th>\n",
       "      <th>age</th>\n",
       "      <th>job</th>\n",
       "      <th>marital</th>\n",
       "      <th>education</th>\n",
       "      <th>default</th>\n",
       "      <th>housing</th>\n",
       "      <th>loan</th>\n",
       "      <th>contact</th>\n",
       "      <th>month</th>\n",
       "      <th>day_of_week</th>\n",
       "      <th>...</th>\n",
       "      <th>pdays</th>\n",
       "      <th>previous</th>\n",
       "      <th>poutcome</th>\n",
       "      <th>emp.var.rate</th>\n",
       "      <th>cons.price.idx</th>\n",
       "      <th>cons.conf.idx</th>\n",
       "      <th>euribor3m</th>\n",
       "      <th>nr.employed</th>\n",
       "      <th>y</th>\n",
       "      <th>was_previously_contacted</th>\n",
       "    </tr>\n",
       "  </thead>\n",
       "  <tbody>\n",
       "    <tr>\n",
       "      <th>0</th>\n",
       "      <td>56</td>\n",
       "      <td>housemaid</td>\n",
       "      <td>married</td>\n",
       "      <td>basic.4y</td>\n",
       "      <td>no</td>\n",
       "      <td>no</td>\n",
       "      <td>no</td>\n",
       "      <td>telephone</td>\n",
       "      <td>may</td>\n",
       "      <td>mon</td>\n",
       "      <td>...</td>\n",
       "      <td>-1</td>\n",
       "      <td>0</td>\n",
       "      <td>nonexistent</td>\n",
       "      <td>1.1</td>\n",
       "      <td>93.994</td>\n",
       "      <td>-36.4</td>\n",
       "      <td>4.857</td>\n",
       "      <td>5191.0</td>\n",
       "      <td>0</td>\n",
       "      <td>0</td>\n",
       "    </tr>\n",
       "    <tr>\n",
       "      <th>1</th>\n",
       "      <td>57</td>\n",
       "      <td>services</td>\n",
       "      <td>married</td>\n",
       "      <td>high.school</td>\n",
       "      <td>&lt;NA&gt;</td>\n",
       "      <td>no</td>\n",
       "      <td>no</td>\n",
       "      <td>telephone</td>\n",
       "      <td>may</td>\n",
       "      <td>mon</td>\n",
       "      <td>...</td>\n",
       "      <td>-1</td>\n",
       "      <td>0</td>\n",
       "      <td>nonexistent</td>\n",
       "      <td>1.1</td>\n",
       "      <td>93.994</td>\n",
       "      <td>-36.4</td>\n",
       "      <td>4.857</td>\n",
       "      <td>5191.0</td>\n",
       "      <td>0</td>\n",
       "      <td>0</td>\n",
       "    </tr>\n",
       "    <tr>\n",
       "      <th>2</th>\n",
       "      <td>37</td>\n",
       "      <td>services</td>\n",
       "      <td>married</td>\n",
       "      <td>high.school</td>\n",
       "      <td>no</td>\n",
       "      <td>yes</td>\n",
       "      <td>no</td>\n",
       "      <td>telephone</td>\n",
       "      <td>may</td>\n",
       "      <td>mon</td>\n",
       "      <td>...</td>\n",
       "      <td>-1</td>\n",
       "      <td>0</td>\n",
       "      <td>nonexistent</td>\n",
       "      <td>1.1</td>\n",
       "      <td>93.994</td>\n",
       "      <td>-36.4</td>\n",
       "      <td>4.857</td>\n",
       "      <td>5191.0</td>\n",
       "      <td>0</td>\n",
       "      <td>0</td>\n",
       "    </tr>\n",
       "    <tr>\n",
       "      <th>3</th>\n",
       "      <td>40</td>\n",
       "      <td>admin.</td>\n",
       "      <td>married</td>\n",
       "      <td>basic.6y</td>\n",
       "      <td>no</td>\n",
       "      <td>no</td>\n",
       "      <td>no</td>\n",
       "      <td>telephone</td>\n",
       "      <td>may</td>\n",
       "      <td>mon</td>\n",
       "      <td>...</td>\n",
       "      <td>-1</td>\n",
       "      <td>0</td>\n",
       "      <td>nonexistent</td>\n",
       "      <td>1.1</td>\n",
       "      <td>93.994</td>\n",
       "      <td>-36.4</td>\n",
       "      <td>4.857</td>\n",
       "      <td>5191.0</td>\n",
       "      <td>0</td>\n",
       "      <td>0</td>\n",
       "    </tr>\n",
       "    <tr>\n",
       "      <th>4</th>\n",
       "      <td>56</td>\n",
       "      <td>services</td>\n",
       "      <td>married</td>\n",
       "      <td>high.school</td>\n",
       "      <td>no</td>\n",
       "      <td>no</td>\n",
       "      <td>yes</td>\n",
       "      <td>telephone</td>\n",
       "      <td>may</td>\n",
       "      <td>mon</td>\n",
       "      <td>...</td>\n",
       "      <td>-1</td>\n",
       "      <td>0</td>\n",
       "      <td>nonexistent</td>\n",
       "      <td>1.1</td>\n",
       "      <td>93.994</td>\n",
       "      <td>-36.4</td>\n",
       "      <td>4.857</td>\n",
       "      <td>5191.0</td>\n",
       "      <td>0</td>\n",
       "      <td>0</td>\n",
       "    </tr>\n",
       "  </tbody>\n",
       "</table>\n",
       "<p>5 rows × 21 columns</p>\n",
       "</div>"
      ],
      "text/plain": [
       "   age        job  marital    education default housing loan    contact month  \\\n",
       "0   56  housemaid  married     basic.4y      no      no   no  telephone   may   \n",
       "1   57   services  married  high.school    <NA>      no   no  telephone   may   \n",
       "2   37   services  married  high.school      no     yes   no  telephone   may   \n",
       "3   40     admin.  married     basic.6y      no      no   no  telephone   may   \n",
       "4   56   services  married  high.school      no      no  yes  telephone   may   \n",
       "\n",
       "  day_of_week  ...  pdays  previous     poutcome emp.var.rate  cons.price.idx  \\\n",
       "0         mon  ...     -1         0  nonexistent          1.1          93.994   \n",
       "1         mon  ...     -1         0  nonexistent          1.1          93.994   \n",
       "2         mon  ...     -1         0  nonexistent          1.1          93.994   \n",
       "3         mon  ...     -1         0  nonexistent          1.1          93.994   \n",
       "4         mon  ...     -1         0  nonexistent          1.1          93.994   \n",
       "\n",
       "   cons.conf.idx  euribor3m  nr.employed  y  was_previously_contacted  \n",
       "0          -36.4      4.857       5191.0  0                         0  \n",
       "1          -36.4      4.857       5191.0  0                         0  \n",
       "2          -36.4      4.857       5191.0  0                         0  \n",
       "3          -36.4      4.857       5191.0  0                         0  \n",
       "4          -36.4      4.857       5191.0  0                         0  \n",
       "\n",
       "[5 rows x 21 columns]"
      ]
     },
     "execution_count": 5,
     "metadata": {},
     "output_type": "execute_result"
    }
   ],
   "source": [
    "#######################################################################################################################\n",
    "# Operating on the Data\n",
    "# Cleaning up the Data a Bit. Replacing, Drop, Substitute, Convert are the operations we will do here. Before we \n",
    "# Fit, Test and Model the data\n",
    "#######################################################################################################################\n",
    "# Replace 'unknown' with NaN (optional, useful for advanced imputation)\n",
    "df.replace('unknown', pd.NA, inplace=True)\n",
    "# Drop 'duration' as it is only known after the call\n",
    "if 'duration' in df.columns:\n",
    "    df.drop(columns=['duration'], inplace=True)\n",
    "# Create a new binary feature: was_previously_contacted\n",
    "df['was_previously_contacted'] = (df['pdays'] != 999).astype(int)\n",
    "# Optional: replace pdays == 999 with a neutral value (e.g., -1)\n",
    "df['pdays'] = df['pdays'].replace(999, -1)\n",
    "# Convert target variable to binary\n",
    "df['y'] = df['y'].map({'yes': 1, 'no': 0})\n",
    "\n",
    "# Separate features and target\n",
    "X = df.drop(columns=['y'])\n",
    "y = df['y']\n",
    "#df.info()\n",
    "df.head()"
   ]
  },
  {
   "cell_type": "markdown",
   "metadata": {},
   "source": [
    "### Problem 5: Engineering Features\n",
    "\n",
    "Now that you understand your business objective, we will build a basic model to get started.  Before we can do this, we must work to encode the data.  Using just the bank information features, prepare the features and target column for modeling with appropriate encoding and transformations."
   ]
  },
  {
   "cell_type": "code",
   "execution_count": 6,
   "metadata": {},
   "outputs": [],
   "source": [
    "#######################################################################################################################\n",
    "# Convert categorical columns to category dtype\n",
    "########################################################################################################################\n",
    "categorical_cols = X.select_dtypes(include='object').columns\n",
    "X[categorical_cols] = X[categorical_cols].astype('category')\n",
    "\n",
    "# One-hot encode categorical features\n",
    "X = pd.get_dummies(X, drop_first=True)"
   ]
  },
  {
   "cell_type": "markdown",
   "metadata": {},
   "source": [
    "### Problem 6: Train/Test Split\n",
    "\n",
    "With your data prepared, split it into a train and test set."
   ]
  },
  {
   "cell_type": "code",
   "execution_count": 7,
   "metadata": {},
   "outputs": [],
   "source": [
    "#######################################################################################################################\n",
    "# X_train_scaled, X_test_scaled: To get ready for KNN, SVM, logistic regression modeling\n",
    "# Decision Tree don't need scaling - X_train and X_test directly for decision trees\n",
    "########################################################################################################################\n",
    "# Train-test split\n",
    "X_train, X_test, y_train, y_test = train_test_split(X, y, test_size=0.2, stratify=y, random_state=42)\n",
    "# Feature scaling\n",
    "scaler = StandardScaler()\n",
    "X_train_scaled = scaler.fit_transform(X_train)\n",
    "X_test_scaled = scaler.transform(X_test)"
   ]
  },
  {
   "cell_type": "markdown",
   "metadata": {},
   "source": [
    "### Problem 7: A Baseline Model\n",
    "\n",
    "Before we build our first model, we want to establish a baseline.  What is the baseline performance that our classifier should aim to beat?"
   ]
  },
  {
   "cell_type": "code",
   "execution_count": 8,
   "metadata": {},
   "outputs": [
    {
     "name": "stdout",
     "output_type": "stream",
     "text": [
      "Majority Class: 0\n",
      "Baseline Accuracy: 0.8873\n"
     ]
    }
   ],
   "source": [
    "#######################################################################################################################\n",
    "#The target variable y has two classes:\n",
    "#'yes' → client subscribed to term deposit\n",
    "#'no' → client did not subscribe\n",
    "#To Establish the baseline, we check which class is most frequent and what percentage it represents.\n",
    "#######################################################################################################################\n",
    "baseline_accuracy = y.value_counts(normalize=True).max()\n",
    "majority_class = y.value_counts().idxmax()\n",
    "\n",
    "print(f\"Majority Class: {majority_class}\")\n",
    "print(f\"Baseline Accuracy: {baseline_accuracy:.4f}\")"
   ]
  },
  {
   "cell_type": "code",
   "execution_count": 9,
   "metadata": {},
   "outputs": [],
   "source": [
    "#######################################################################################################################\n",
    "# We will use a common empty list and we will fill this list with the type of Model we utilize and how much time does it \n",
    "# take to fit the Model.\n",
    "# We will fill in the  'Model': Name, 'Train-Time', 'Train-Accuracy', 'Test-Accuracy'\n",
    "########################################################################################################################\n",
    "results_fit_time = []"
   ]
  },
  {
   "cell_type": "markdown",
   "metadata": {},
   "source": [
    "### Problem 8: A Simple Model\n",
    "\n",
    "Use Logistic Regression to build a basic model on your data.  "
   ]
  },
  {
   "cell_type": "code",
   "execution_count": 10,
   "metadata": {},
   "outputs": [
    {
     "name": "stdout",
     "output_type": "stream",
     "text": [
      "Logistic Regression\n"
     ]
    }
   ],
   "source": [
    "#######################################################################################################################\n",
    "# Logistic Regression : is a supervised machine learning algorithm used for classification problems. \n",
    "# It predicts the probability that an input belongs to a specific class. It is used for binary classification where \n",
    "# the output can be one of two possible categories such as Yes/No, True/False or 0/1. \n",
    "# It uses sigmoid function to convert inputs into a probability value between 0 and 1.\n",
    "# Accuracy, Precision, Recall and F1 Scores are computed along with Confusion Matrix\n",
    "########################################################################################################################\n",
    "start = time.time()\n",
    "model_lr = LogisticRegression(max_iter=1000, random_state=42)\n",
    "model_lr.fit(X_train_scaled, y_train)\n",
    "end = time.time()\n",
    "\n",
    "y_pred_lr = model_lr.predict(X_test_scaled)\n",
    "\n",
    "results_fit_time.append({\n",
    "    'Model': 'Logistic Regression',\n",
    "    'Train-Time': round(end - start, 4),\n",
    "    'Train-Accuracy': accuracy_score(y_train, model_lr.predict(X_train_scaled)),\n",
    "    'Test-Accuracy': accuracy_score(y_test, model_lr.predict(X_test_scaled)),\n",
    "    'F1-Score': f1_score(y_test, y_pred_lr)\n",
    "})\n",
    "print(\"Logistic Regression\")"
   ]
  },
  {
   "cell_type": "markdown",
   "metadata": {},
   "source": [
    "### Problem 9: Score the Model\n",
    "\n",
    "What is the accuracy of your model?"
   ]
  },
  {
   "cell_type": "code",
   "execution_count": 11,
   "metadata": {},
   "outputs": [
    {
     "name": "stdout",
     "output_type": "stream",
     "text": [
      "Accuracy : 0.9013109978150037\n",
      "Precision: 0.6923076923076923\n",
      "Recall   : 0.22306034482758622\n",
      "F1-Score : 0.3374083129584352\n",
      "Confusion Matrix:\n",
      " [[7218   92]\n",
      " [ 721  207]]\n",
      "Classification Report:\n",
      "               precision    recall  f1-score   support\n",
      "\n",
      "           0       0.91      0.99      0.95      7310\n",
      "           1       0.69      0.22      0.34       928\n",
      "\n",
      "    accuracy                           0.90      8238\n",
      "   macro avg       0.80      0.61      0.64      8238\n",
      "weighted avg       0.88      0.90      0.88      8238\n",
      "\n"
     ]
    }
   ],
   "source": [
    "########################################################################################################################\n",
    "# Computing Various Scores from the Logistic Regression: Accuracy, Precision, Recall and F1 Scores are computed along \n",
    "# with Confusion Matrix\n",
    "########################################################################################################################\n",
    "print(\"Accuracy :\", accuracy_score(y_test, y_pred_lr))\n",
    "print(\"Precision:\", precision_score(y_test, y_pred_lr))\n",
    "print(\"Recall   :\", recall_score(y_test, y_pred_lr))\n",
    "print(\"F1-Score :\", f1_score(y_test, y_pred_lr))\n",
    "print(\"Confusion Matrix:\\n\", confusion_matrix(y_test, y_pred_lr))\n",
    "print(\"Classification Report:\\n\", classification_report(y_test, y_pred_lr))"
   ]
  },
  {
   "cell_type": "code",
   "execution_count": 12,
   "metadata": {},
   "outputs": [
    {
     "name": "stdout",
     "output_type": "stream",
     "text": [
      "K-Nearest Neighbors\n",
      "Accuracy : 0.8932993445010925\n",
      "Precision: 0.5529157667386609\n",
      "Recall   : 0.27586206896551724\n",
      "F1-Score : 0.3680805176132279\n",
      "Confusion Matrix:\n",
      " [[7103  207]\n",
      " [ 672  256]]\n",
      "Classification Report:\n",
      "               precision    recall  f1-score   support\n",
      "\n",
      "           0       0.91      0.97      0.94      7310\n",
      "           1       0.55      0.28      0.37       928\n",
      "\n",
      "    accuracy                           0.89      8238\n",
      "   macro avg       0.73      0.62      0.65      8238\n",
      "weighted avg       0.87      0.89      0.88      8238\n",
      "\n"
     ]
    }
   ],
   "source": [
    "#######################################################################################################################\n",
    "# KNN Regression Model is based on K-Nearest Neighbours\n",
    "# This value is the average of the values of k nearest neighbors. \n",
    "# If k = 1, then the output is simply assigned to the value of that single nearest neighbor, \n",
    "# also known as nearest neighbor interpolation\n",
    "# Logistic Regression outperforms KNN\n",
    "# Also Compute Various Scores from the KNN Regression: Accuracy, Precision, Recall and F1 Scores are computed along \n",
    "# with Confusion Matrix\n",
    "#######################################################################################################################\n",
    "start = time.time()\n",
    "model_knn = KNeighborsClassifier(n_neighbors=5)\n",
    "model_knn.fit(X_train_scaled, y_train)\n",
    "end = time.time()\n",
    "\n",
    "y_pred_knn = model_knn.predict(X_test_scaled)\n",
    "\n",
    "results_fit_time.append({\n",
    "    'Model': 'K-Nearest Neighbors',\n",
    "    'Train-Time': round(end - start, 4),\n",
    "    'Train-Accuracy': accuracy_score(y_train, model_knn.predict(X_train_scaled)),\n",
    "    'Test-Accuracy': accuracy_score(y_test, model_knn.predict(X_test_scaled)),\n",
    "    'F1-Score': f1_score(y_test, y_pred_knn)\n",
    "})\n",
    "print(\"K-Nearest Neighbors\")\n",
    "print(\"Accuracy :\", accuracy_score(y_test, y_pred_knn))\n",
    "print(\"Precision:\", precision_score(y_test, y_pred_knn))\n",
    "print(\"Recall   :\", recall_score(y_test, y_pred_knn))\n",
    "print(\"F1-Score :\", f1_score(y_test, y_pred_knn))\n",
    "print(\"Confusion Matrix:\\n\", confusion_matrix(y_test, y_pred_knn))\n",
    "print(\"Classification Report:\\n\", classification_report(y_test, y_pred_knn))"
   ]
  },
  {
   "cell_type": "code",
   "execution_count": 13,
   "metadata": {},
   "outputs": [
    {
     "name": "stdout",
     "output_type": "stream",
     "text": [
      "Decision Tree\n",
      "Accuracy : 0.8407380432143724\n",
      "Precision: 0.3128654970760234\n",
      "Recall   : 0.3459051724137931\n",
      "F1-Score : 0.3285568065506653\n",
      "Confusion Matrix:\n",
      " [[6605  705]\n",
      " [ 607  321]]\n",
      "Classification Report:\n",
      "               precision    recall  f1-score   support\n",
      "\n",
      "           0       0.92      0.90      0.91      7310\n",
      "           1       0.31      0.35      0.33       928\n",
      "\n",
      "    accuracy                           0.84      8238\n",
      "   macro avg       0.61      0.62      0.62      8238\n",
      "weighted avg       0.85      0.84      0.84      8238\n",
      "\n"
     ]
    }
   ],
   "source": [
    "#######################################################################################################################\n",
    "# A Decision Tree for regression is a model that predicts numerical values using a tree-like structure. \n",
    "# It splits data based on key features, starting from a root question and branching out. Each node asks about a feature, \n",
    "# dividing data further until reaching leaf nodes with final predictions\n",
    "# Decision Tree don't need scaling - X_train and X_test directly for decision trees\n",
    "#######################################################################################################################\n",
    "start = time.time()\n",
    "model_dt = DecisionTreeClassifier(random_state=42)\n",
    "model_dt.fit(X_train, y_train)  # No scaling needed\n",
    "end = time.time()\n",
    "\n",
    "y_pred_dt = model_dt.predict(X_test)\n",
    "\n",
    "results_fit_time.append({\n",
    "    'Model': 'Decision Tree',\n",
    "    'Train-Time': round(end - start, 4),\n",
    "    'Train-Accuracy': accuracy_score(y_train, model_dt.predict(X_train)),\n",
    "    'Test-Accuracy': accuracy_score(y_test, model_dt.predict(X_test)),\n",
    "    'F1-Score': f1_score(y_test, y_pred_dt)\n",
    "})\n",
    "print(\"Decision Tree\")\n",
    "print(\"Accuracy :\", accuracy_score(y_test, y_pred_dt))\n",
    "print(\"Precision:\", precision_score(y_test, y_pred_dt))\n",
    "print(\"Recall   :\", recall_score(y_test, y_pred_dt))\n",
    "print(\"F1-Score :\", f1_score(y_test, y_pred_dt))\n",
    "print(\"Confusion Matrix:\\n\", confusion_matrix(y_test, y_pred_dt))\n",
    "print(\"Classification Report:\\n\", classification_report(y_test, y_pred_dt))"
   ]
  },
  {
   "cell_type": "code",
   "execution_count": 14,
   "metadata": {},
   "outputs": [
    {
     "name": "stdout",
     "output_type": "stream",
     "text": [
      "Support Vector Machine\n",
      "Accuracy : 0.900825443068706\n",
      "Precision: 0.68561872909699\n",
      "Recall   : 0.2209051724137931\n",
      "F1-Score : 0.3341483292583537\n",
      "Confusion Matrix:\n",
      " [[7216   94]\n",
      " [ 723  205]]\n",
      "Classification Report:\n",
      "               precision    recall  f1-score   support\n",
      "\n",
      "           0       0.91      0.99      0.95      7310\n",
      "           1       0.69      0.22      0.33       928\n",
      "\n",
      "    accuracy                           0.90      8238\n",
      "   macro avg       0.80      0.60      0.64      8238\n",
      "weighted avg       0.88      0.90      0.88      8238\n",
      "\n"
     ]
    }
   ],
   "source": [
    "#######################################################################################################################\n",
    "# A Model that returns a returns a continuous-valued output instead of a set of discrete values, \n",
    "# thus regression is a generalization of the classification problem.\n",
    "# This is the Support Vector Classifier from sklearn.svm. It's used for classification tasks.\n",
    "# This creates an instance of a Support Vector Machine (SVM) classifier using scikit-learn's SVC \n",
    "# (Support Vector Classification) class with specific settings\n",
    "# We also compute Various Scores from the SVM regression: Accuracy, Precision, Recall and F1 Scores are computed along \n",
    "# with Confusion Matrix\n",
    "########################################################################################################################\n",
    "model_svm = SVC(kernel='rbf', probability=True, random_state=42)\n",
    "\n",
    "start = time.time()\n",
    "model_svm.fit(X_train_scaled, y_train)\n",
    "end = time.time()\n",
    "y_pred_svm = model_svm.predict(X_test_scaled)\n",
    "\n",
    "results_fit_time.append({\n",
    "    'Model': 'Support Vector Machine',\n",
    "    'Train-Time': round(end - start, 4),\n",
    "    'Train-Accuracy': accuracy_score(y_train, model_svm.predict(X_train_scaled)),\n",
    "    'Test-Accuracy': accuracy_score(y_test, model_svm.predict(X_test_scaled)),\n",
    "     'F1-Score': f1_score(y_test, y_pred_svm)\n",
    "})\n",
    "\n",
    "print(\"Support Vector Machine\")\n",
    "print(\"Accuracy :\", accuracy_score(y_test, y_pred_svm))\n",
    "print(\"Precision:\", precision_score(y_test, y_pred_svm))\n",
    "print(\"Recall   :\", recall_score(y_test, y_pred_svm))\n",
    "print(\"F1-Score :\", f1_score(y_test, y_pred_svm))\n",
    "print(\"Confusion Matrix:\\n\", confusion_matrix(y_test, y_pred_svm))\n",
    "print(\"Classification Report:\\n\", classification_report(y_test, y_pred_svm))"
   ]
  },
  {
   "cell_type": "markdown",
   "metadata": {},
   "source": [
    "### Problem 10: Model Comparisons\n",
    "\n",
    "Now, we aim to compare the performance of the Logistic Regression model to our KNN algorithm, Decision Tree, and SVM models.  Using the default settings for each of the models, fit and score each.  Also, be sure to compare the fit time of each of the models.  Present your findings in a `DataFrame` similar to that below:\n",
    "\n",
    "| Model | Train Time | Train Accuracy | Test Accuracy |\n",
    "| ----- | ---------- | -------------  | -----------   |\n",
    "|     |    |.     |.     |"
   ]
  },
  {
   "cell_type": "code",
   "execution_count": 15,
   "metadata": {},
   "outputs": [
    {
     "name": "stdout",
     "output_type": "stream",
     "text": [
      "Model Comparison Summary:\n",
      "\n",
      "                    Model  Train-Time  Train-Accuracy  Test-Accuracy\n",
      "0     Logistic Regression      0.2437        0.900152       0.901311\n",
      "1     K-Nearest Neighbors      0.0062        0.912382       0.893299\n",
      "2           Decision Tree      0.4174        0.994719       0.840738\n",
      "3  Support Vector Machine   1343.4604        0.909105       0.900825\n"
     ]
    }
   ],
   "source": [
    "#######################################################################################################################\n",
    "# We compare the performances of Various models. We utilize the list where we have been storing all the performance\n",
    "# results 'results_fit_time' to print the model comparision summary\n",
    "########################################################################################################################\n",
    "results_fit_time_df = pd.DataFrame(results_fit_time)\n",
    "print(\"Model Comparison Summary:\\n\")\n",
    "print(results_fit_time_df.iloc[:, :-1])"
   ]
  },
  {
   "cell_type": "code",
   "execution_count": 16,
   "metadata": {},
   "outputs": [
    {
     "data": {
      "image/png": "[encoded data removed]",
      "text/plain": [
       "<Figure size 1200x700 with 1 Axes>"
      ]
     },
     "metadata": {},
     "output_type": "display_data"
    }
   ],
   "source": [
    "#######################################################################################################################\n",
    "#\n",
    "# Plotting the : Model_Accuracy_Comparison.png\n",
    "#\n",
    "#######################################################################################################################\n",
    "import seaborn as sns\n",
    "import matplotlib.pyplot as plt\n",
    "\n",
    "# Sort models by test accuracy\n",
    "results_df_sorted = results_fit_time_df.sort_values(by=\"Test-Accuracy\", ascending=False)\n",
    "\n",
    "# Melt for Seaborn barplot\n",
    "melted = pd.melt(\n",
    "    results_df_sorted,\n",
    "    id_vars=['Model', 'Train-Time', 'F1-Score'],\n",
    "    value_vars=['Train-Accuracy', 'Test-Accuracy'],\n",
    "    var_name='Metric',\n",
    "    value_name='Accuracy'\n",
    ")\n",
    "# Plot\n",
    "plt.figure(figsize=(12, 7))\n",
    "ax = sns.barplot(x='Model', y='Accuracy', hue='Metric', data=melted, palette='Set2')\n",
    "plt.title(\"Model Accuracy Comparison with Train-Time & F1 Score\")\n",
    "plt.ylim(0.6, 1.02)\n",
    "plt.ylabel(\"Accuracy\")\n",
    "plt.xlabel(\"Model\")\n",
    "plt.grid(axis='y', linestyle='--', alpha=0.4)\n",
    "plt.legend(title='Metric', loc='lower right')\n",
    "# Add train-time and F1-score annotations\n",
    "for bar, (_, row) in zip(ax.patches, results_df_sorted.iterrows()):\n",
    "    height = bar.get_height()\n",
    "    model_index = int(bar.get_x() + bar.get_width() / 2)\n",
    "    if 'Train' in bar.get_label():\n",
    "        label = f\"{row['Train-Time']}s\\n F1: {row['F1-Score']:.2f}\"\n",
    "        ax.text(\n",
    "            bar.get_x() + bar.get_width() / 2,\n",
    "            height + 0.01,\n",
    "            label,\n",
    "            ha='center',\n",
    "            va='bottom',\n",
    "            fontsize=9,\n",
    "            color='black'\n",
    "        )\n",
    "plt.tight_layout()\n",
    "plt.savefig(\"..\\\\GraphPlots\\\\Model_Accuracy_Comparison.png\", dpi=300)\n",
    "plt.show()"
   ]
  },
  {
   "cell_type": "markdown",
   "metadata": {},
   "source": [
    "### Problem 11: Improving the Model\n",
    "\n",
    "Now that we have some basic models on the board, we want to try to improve these.  Below, we list a few things to explore in this pursuit.\n",
    "\n",
    "- More feature engineering and exploration.  For example, should we keep the gender feature?  Why or why not?\n",
    "- Hyperparameter tuning and grid search.  All of our models have additional hyperparameters to tune and explore.  For example the number of neighbors in KNN or the maximum depth of a Decision Tree.  \n",
    "- Adjust your performance metric"
   ]
  },
  {
   "cell_type": "markdown",
   "metadata": {},
   "source": [
    "### Feature Engineering and Exploration:\n",
    "\n",
    "In the Bank Marketing Dataset, there is no explicit gender column. If possibly we can inferr the gender factor it could be possible from marital status.\n",
    "We can KEEP a feature if:\n",
    "      i)  It's available at the time of prediction\n",
    "      ii) It's not a proxy for sensitive or biased info unless being handled explicitly\n",
    "      iii)It adds predictive signal without causing ethical/legal issues\n",
    "We can REMOVE a feature if:\n",
    "      i)  It's leads to data leakage (like duration does)\n",
    "      ii) It’s biased or ethically sensitive (e.g., inferred gender may raise fairness concerns)\n",
    "      iii)It's redundant or low variance"
   ]
  },
  {
   "cell_type": "code",
   "execution_count": 17,
   "metadata": {},
   "outputs": [],
   "source": [
    "from sklearn.model_selection import GridSearchCV\n",
    "from sklearn.metrics import make_scorer, f1_score"
   ]
  },
  {
   "cell_type": "code",
   "execution_count": 18,
   "metadata": {},
   "outputs": [],
   "source": [
    "#######################################################################################################################\n",
    "#\n",
    "# We do a GridSearchCV for all four models — Logistic Regression, KNN, Decision Tree, and SVM — using scikit-learn.\n",
    "# Define a parameter grid for each model.\n",
    "# Use F1-score as the scoring metric (to account for class imbalance).\n",
    "# Use 5-fold cross-validation.\n",
    "# SVM Takes a longer Time and hence skipping it.\n",
    "#######################################################################################################################\n",
    "def run_grid_search(model, param_grid, X_train, y_train, model_name, use_scaled=True):\n",
    "    print(f\"\\nGridSearchCV for {model_name}\")\n",
    "    scorer = make_scorer(f1_score)\n",
    "    \n",
    "    grid = GridSearchCV(model, param_grid, scoring=scorer, cv=5, n_jobs=-1)\n",
    "    grid.fit(X_train_scaled if use_scaled else X_train, y_train)\n",
    "    \n",
    "    print(f\"Best Params for {model_name}: {grid.best_params_}\")\n",
    "    print(f\"Best F1 Score: {grid.best_score_:.4f}\")\n",
    "    return grid.best_estimator_"
   ]
  },
  {
   "cell_type": "code",
   "execution_count": 19,
   "metadata": {},
   "outputs": [
    {
     "name": "stdout",
     "output_type": "stream",
     "text": [
      "\n",
      "GridSearchCV for Logistic Regression\n",
      "Best Params for Logistic Regression: {'C': 10, 'penalty': 'l1', 'solver': 'liblinear'}\n",
      "Best F1 Score: 0.3409\n"
     ]
    }
   ],
   "source": [
    "#######################################################################################################################\n",
    "#\n",
    "# Grid Search: Logistic Regression\n",
    "#\n",
    "#######################################################################################################################\n",
    "from sklearn.linear_model import LogisticRegression\n",
    "\n",
    "lr_param_grid = {\n",
    "    'C': [0.01, 0.1, 1, 10], 'penalty': ['l1', 'l2'],\n",
    "    'solver': ['liblinear']  # supports l1 + l2\n",
    "}\n",
    "lr_best = run_grid_search(LogisticRegression(max_iter=1000, random_state=42), lr_param_grid, X_train_scaled, y_train, \"Logistic Regression\")"
   ]
  },
  {
   "cell_type": "code",
   "execution_count": 20,
   "metadata": {},
   "outputs": [
    {
     "name": "stdout",
     "output_type": "stream",
     "text": [
      "\n",
      "GridSearchCV for K-Nearest Neighbors\n",
      "Best Params for K-Nearest Neighbors: {'n_neighbors': 5, 'p': 1, 'weights': 'uniform'}\n",
      "Best F1 Score: 0.3512\n"
     ]
    }
   ],
   "source": [
    "#######################################################################################################################\n",
    "#\n",
    "# Grid Search: K-Nearest Neighbors\n",
    "#\n",
    "#######################################################################################################################\n",
    "from sklearn.neighbors import KNeighborsClassifier\n",
    "\n",
    "knn_param_grid = {\n",
    "    'n_neighbors': [3, 5, 7, 9],\n",
    "    'weights': ['uniform', 'distance'],\n",
    "    'p': [1, 2]  # Manhattan (1) or Euclidean (2)\n",
    "}\n",
    "knn_best = run_grid_search(KNeighborsClassifier(), knn_param_grid, X_train_scaled, y_train, \"K-Nearest Neighbors\")"
   ]
  },
  {
   "cell_type": "code",
   "execution_count": 21,
   "metadata": {},
   "outputs": [
    {
     "name": "stdout",
     "output_type": "stream",
     "text": [
      "\n",
      "GridSearchCV for Decision Tree\n",
      "Best Params for Decision Tree: {'criterion': 'entropy', 'max_depth': 10, 'min_samples_split': 2}\n",
      "Best F1 Score: 0.3656\n"
     ]
    }
   ],
   "source": [
    "#######################################################################################################################\n",
    "#\n",
    "# Grid Search: Decision Tree\n",
    "#\n",
    "#######################################################################################################################\n",
    "\n",
    "from sklearn.tree import DecisionTreeClassifier\n",
    "\n",
    "dt_param_grid = {\n",
    "    'max_depth': [5, 10, 15, None],\n",
    "    'min_samples_split': [2, 5, 10],\n",
    "    'criterion': ['gini', 'entropy']\n",
    "}\n",
    "\n",
    "dt_best = run_grid_search(DecisionTreeClassifier(random_state=42), dt_param_grid, X_train, y_train, \"Decision Tree\", use_scaled=False)"
   ]
  },
  {
   "cell_type": "code",
   "execution_count": null,
   "metadata": {},
   "outputs": [
    {
     "name": "stdout",
     "output_type": "stream",
     "text": [
      "\n",
      "GridSearchCV for Support Vector Machine\n"
     ]
    }
   ],
   "source": [
    "#######################################################################################################################\n",
    "#\n",
    "# Grid Search: Support Vector Machine\n",
    "#\n",
    "#######################################################################################################################\n",
    "'''\n",
    "from sklearn.svm import SVC\n",
    "\n",
    "svm_param_grid = {\n",
    "    'C': [0.1, 1, 10],\n",
    "    'kernel': ['rbf', 'linear'],\n",
    "    'gamma': ['scale', 'auto']\n",
    "}\n",
    "svm_best = run_grid_search(SVC(probability=True, random_state=42), svm_param_grid, X_train_scaled, y_train, \"Support Vector Machine\")\n",
    "'''"
   ]
  },
  {
   "cell_type": "code",
   "execution_count": 22,
   "metadata": {},
   "outputs": [
    {
     "name": "stdout",
     "output_type": "stream",
     "text": [
      "\n",
      "LogReg Test Set Evaluation\n",
      "              precision    recall  f1-score   support\n",
      "\n",
      "           0       0.91      0.99      0.95      7310\n",
      "           1       0.69      0.22      0.34       928\n",
      "\n",
      "    accuracy                           0.90      8238\n",
      "   macro avg       0.80      0.61      0.64      8238\n",
      "weighted avg       0.88      0.90      0.88      8238\n",
      "\n",
      "\n",
      "KNN Test Set Evaluation\n",
      "              precision    recall  f1-score   support\n",
      "\n",
      "           0       0.91      0.97      0.94      7310\n",
      "           1       0.53      0.27      0.36       928\n",
      "\n",
      "    accuracy                           0.89      8238\n",
      "   macro avg       0.72      0.62      0.65      8238\n",
      "weighted avg       0.87      0.89      0.87      8238\n",
      "\n",
      "\n",
      "DT Test Set Evaluation\n",
      "              precision    recall  f1-score   support\n",
      "\n",
      "           0       0.92      0.98      0.95      7310\n",
      "           1       0.62      0.28      0.39       928\n",
      "\n",
      "    accuracy                           0.90      8238\n",
      "   macro avg       0.77      0.63      0.67      8238\n",
      "weighted avg       0.88      0.90      0.88      8238\n",
      "\n"
     ]
    }
   ],
   "source": [
    "#######################################################################################################################\n",
    "#\n",
    "# Hyperparameter Tuning\n",
    "#\n",
    "#######################################################################################################################\n",
    "\n",
    "from sklearn.metrics import classification_report\n",
    "\n",
    "for name, model in [('LogReg', lr_best), ('KNN', knn_best), ('DT', dt_best)]: ##, ('SVM', svm_best)\n",
    "    print(f\"\\n{name} Test Set Evaluation\")\n",
    "    y_pred = model.predict(X_test_scaled if name != 'DT' else X_test)\n",
    "    print(classification_report(y_test, y_pred))"
   ]
  },
  {
   "cell_type": "code",
   "execution_count": 23,
   "metadata": {},
   "outputs": [],
   "source": [
    "#######################################################################################################################\n",
    "#\n",
    "# A Common Function : For Measuring and plotting the performance of the 4 Models \n",
    "# Confusion matrix : is a simple table used to measure how well a classification model is performing. \n",
    "# Something to compare the predictions made by the model with the actual results and shows where the model was right \n",
    "# or wrong. This also helps in understanding where the model is making mistakes so that it can be improved.\n",
    "##True Positive (TP): Model correctly predicted \"yes\"--(subscribed)\n",
    "###True Negative (TN): Model correctly predicted \"no\"--(did not subscribe)\n",
    "####False Positive (FP): Model predicted \"yes\" -- but actual was \"no\"\n",
    "#####False Negative (FN): Model predicted \"no\"-- but actual was \"yes\"\n",
    "####Confusion Matrix would also help reveal where each model is failing:\n",
    "###Too many false negatives? We are missing real positives.\n",
    "##Too many false positives? over-optimistic.\n",
    "#######################################################################################################################\n",
    "import os\n",
    "import matplotlib.pyplot as plt\n",
    "import seaborn as sns\n",
    "from sklearn.metrics import confusion_matrix\n",
    "\n",
    "def plot_conf_matrix(y_true, y_pred, model_name):\n",
    "    strSaveFile = \"..\\\\GraphPlots\\\\\" +model_name+\"_ConfuMatrix\"+\".png\"\n",
    "    cm = confusion_matrix(y_true, y_pred)\n",
    "    plt.figure(figsize=(5,4))\n",
    "    sns.heatmap(cm, annot=True, fmt='d', cmap='Blues', cbar=False)\n",
    "    plt.xlabel(\"Predicted\")\n",
    "    plt.ylabel(\"Actual\")\n",
    "    plt.title(f\"Confusion Matrix: {model_name}\")\n",
    "    plt.tight_layout()\n",
    "    plt.savefig(strSaveFile, dpi=300)\n",
    "    plt.show()"
   ]
  },
  {
   "cell_type": "code",
   "execution_count": 24,
   "metadata": {},
   "outputs": [
    {
     "data": {
      "image/png": "[encoded data removed]",
      "text/plain": [
       "<Figure size 500x400 with 1 Axes>"
      ]
     },
     "metadata": {},
     "output_type": "display_data"
    },
    {
     "data": {
      "image/png": "[encoded data removed]",
      "text/plain": [
       "<Figure size 500x400 with 1 Axes>"
      ]
     },
     "metadata": {},
     "output_type": "display_data"
    },
    {
     "data": {
      "image/png": "[encoded data removed]",
      "text/plain": [
       "<Figure size 500x400 with 1 Axes>"
      ]
     },
     "metadata": {},
     "output_type": "display_data"
    }
   ],
   "source": [
    "#######################################################################################################################\n",
    "#\n",
    "# Call to Plot the Confusion Matrix.\n",
    "# We will skip SVM regression Model due to the time it takes and we haven't included it\n",
    "# Read out eg.:\n",
    "#[[7083  200]\n",
    "# [ 543  691]]\n",
    "################7083 clients correctly predicted as no\n",
    "################200 clients incorrectly predicted as yes\n",
    "################543 clients predicted as no, but actually yes → false negatives\n",
    "################691 clients correctly predicted as yes\n",
    "#######################################################################################################################\n",
    "plot_conf_matrix(y_test, lr_best.predict(X_test_scaled), \"Logistic Regression\")\n",
    "plot_conf_matrix(y_test, knn_best.predict(X_test_scaled), \"KNN\")\n",
    "plot_conf_matrix(y_test, dt_best.predict(X_test), \"Decision Tree\")\n",
    "##plot_conf_matrix(y_test, svm_best.predict(X_test_scaled), \"SVM\")"
   ]
  },
  {
   "cell_type": "code",
   "execution_count": 25,
   "metadata": {},
   "outputs": [],
   "source": [
    "#######################################################################################################################\n",
    "#\n",
    "# ROC Curve (All Models) : ?? Receiver Operating Characteristics Curve\n",
    "#\n",
    "#######################################################################################################################\n",
    "from sklearn.metrics import roc_curve, auc\n",
    "\n",
    "def plot_roc_curve(models, X_test_scaled, X_test, y_test):\n",
    "    plt.figure(figsize=(8, 6))\n",
    "\n",
    "    for name, model, X in models:\n",
    "        y_probs = model.predict_proba(X)[:, 1]\n",
    "        fpr, tpr, _ = roc_curve(y_test, y_probs)\n",
    "        roc_auc = auc(fpr, tpr)\n",
    "        plt.plot(fpr, tpr, label=f'{name} (AUC = {roc_auc:.2f})')\n",
    "\n",
    "    plt.plot([0, 1], [0, 1], 'k--', label='Random Guess')\n",
    "    plt.xlabel('False Positive Rate')\n",
    "    plt.ylabel('True Positive Rate')\n",
    "    plt.title('ROC Curve Comparison')\n",
    "    plt.legend()\n",
    "    plt.grid()\n",
    "    plt.tight_layout()\n",
    "    plt.savefig(\"..\\\\GraphPlots\\\\ROC_Curve.png\", dpi=300)\n",
    "    plt.show()"
   ]
  },
  {
   "cell_type": "code",
   "execution_count": 26,
   "metadata": {},
   "outputs": [
    {
     "data": {
      "image/png": "[encoded data removed]",
      "text/plain": [
       "<Figure size 800x600 with 1 Axes>"
      ]
     },
     "metadata": {},
     "output_type": "display_data"
    }
   ],
   "source": [
    "#######################################################################################################################\n",
    "#\n",
    "# Calling the function to Plot the ROC Curve\n",
    "#######################################################################################################################\n",
    "plot_roc_curve([\n",
    "    (\"LogReg\", lr_best, X_test_scaled),\n",
    "    (\"KNN\", knn_best, X_test_scaled),\n",
    "    (\"DT\", dt_best, X_test)\n",
    "    #(\"SVM\", svm_best, X_test_scaled),\n",
    "], X_test_scaled, X_test, y_test)"
   ]
  }
 ],
 "metadata": {
  "kernelspec": {
   "display_name": "Python 3 (ipykernel)",
   "language": "python",
   "name": "python3"
  },
  "language_info": {
   "codemirror_mode": {
    "name": "ipython",
    "version": 3
   },
   "file_extension": ".py",
   "mimetype": "text/x-python",
   "name": "python",
   "nbconvert_exporter": "python",
   "pygments_lexer": "ipython3",
   "version": "3.13.2"
  },
  "widgets": {
   "application/vnd.jupyter.widget-state+json": {
    "state": {},
    "version_major": 2,
    "version_minor": 0
   }
  }
 },
 "nbformat": 4,
 "nbformat_minor": 4
}
